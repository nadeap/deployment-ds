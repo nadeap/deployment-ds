{
 "cells": [
  {
   "cell_type": "markdown",
   "metadata": {
    "id": "02f3b53e"
   },
   "source": [
    "# Perbandingan Algoritma KNN, Naive Bayes dan DTree Pada Klasifikasi Jenis IPM"
   ]
  },
  {
   "cell_type": "markdown",
   "metadata": {
    "id": "0899fcb6"
   },
   "source": [
    "### Ujian Praktek Data Science\n",
    "\n",
    "Nama : Nadea Putri Nur Fauzi\n",
    "\n",
    "Kelas : Ular\n",
    "\n",
    "Program : AI Mastery \n",
    "\n",
    "Company : Orbit Future Academy"
   ]
  },
  {
   "cell_type": "markdown",
   "metadata": {
    "id": "ca89099a"
   },
   "source": [
    "Dataset : lpm.csv (Sumber : Orbit Future Academy) - Data Skunder\n",
    "\n",
    "Algoritma Project : Decision Tree\n",
    "\n",
    "Sumber : \n",
    "\n",
    "https://www.statmat.net/indeks-pembangunan-manusia-ipm/ \n",
    "\n",
    "Dataset : https://ptorbitventurainodnesia-my.sharepoint.com/:x:/g/personal/admin_content_orbitfutureacademy_sch_id/ERZwvIbz2LBDnw1uSbE1wIABWOw6kf9yzGlvBQYyvzYO6Q?rtime=Wac08POT2kg"
   ]
  },
  {
   "cell_type": "markdown",
   "metadata": {
    "id": "e775cd77"
   },
   "source": [
    "### Step 1 ( Problem Scooping)"
   ]
  },
  {
   "cell_type": "markdown",
   "metadata": {
    "id": "b44cf049"
   },
   "source": [
    "Indeks Pembangunan Manusia (IPM) menggambarkan 3 dimensi kehidupan manusia yaitu peluang hidup (longevity), pengetahuan (knowledge), dan standar hidup layak (decent living standard).\n",
    "\n",
    "Indeks Pembangunan Manusia (IPM) biasa disebut indeks komposit. Indeks komposit merupakan sebuah indeks yang disusun oleh indeks-indeks lain seperti indeks pendidikan, indeks harapan hidup dan indeks pendapatan.\n",
    "\n",
    "Di Indonesia, IPM ini dianalisis oleh Badan Pusat Statistika (BPS) dan dari data IPM ini pemerintah bisa mengambil keputusan dan kebijakan untuk pembangunan yang lebih baik kedepannya.\n",
    "\n",
    "Indeks Pembangunan Manusia (IPM) bisa dipengaruhi oleh beberapa faktor seperti:\n",
    "\n",
    "- Harapan lama sekolah\n",
    "\n",
    "- Pengeluaran perkapita\n",
    "\n",
    "- Rerata lama sekolah\n",
    "\n",
    "- Usia harapan hidup\n",
    "\n",
    "Dari 4 faktor tersebut, kita dapat mengelompokkan ke beberapa jenis IPM yaitu Very High, High, Normal dan Low.\n",
    "\n",
    "Project ini akan mengklasifikasikan dataset menggunakan Algoritma Machine Learning yaitu XXX dan akan dilakukan prediksi terhadap data baru, sehingga model akan otomatis memprediksi jenis kelas IPM."
   ]
  },
  {
   "cell_type": "markdown",
   "metadata": {
    "id": "a1b1cb3c"
   },
   "source": [
    "Rumusan Masalah:\n",
    "\n",
    "H0 : Jenis IPM tidak dipengaruhi oleh harapan lama sekolah, pengeluaran perkapita, rerata lama sekolah dan usia harapan hidup.\n",
    "\n",
    "H1 : Jenis IPM dipengaruhi oleh harapan lama sekolah, pengeluaran perkapita, rerata lama sekolah dan usia harapan hidup."
   ]
  },
  {
   "cell_type": "markdown",
   "metadata": {
    "id": "4e63b19f"
   },
   "source": [
    "### Step 2 (Data Acquisition)"
   ]
  },
  {
   "cell_type": "markdown",
   "metadata": {
    "id": "afd9c518"
   },
   "source": [
    "Data yang digunakan pada project ini adalah data IPM yang disediakan oleh Orbit Future Academy. Data berformat csv."
   ]
  },
  {
   "cell_type": "code",
   "execution_count": 1,
   "metadata": {
    "id": "3b19ab4c"
   },
   "outputs": [],
   "source": [
    "#Import Library\n",
    "import pandas as pd\n",
    "import numpy as np\n",
    "import matplotlib.pyplot as plt\n",
    "import seaborn as sns\n",
    "import pickle"
   ]
  },
  {
   "cell_type": "code",
   "execution_count": 2,
   "metadata": {
    "colab": {
     "base_uri": "https://localhost:8080/",
     "height": 224
    },
    "id": "79c0af42",
    "outputId": "f74b1b50-a3e0-48dd-a909-cf30174744ce"
   },
   "outputs": [
    {
     "data": {
      "text/html": [
       "<div>\n",
       "<style scoped>\n",
       "    .dataframe tbody tr th:only-of-type {\n",
       "        vertical-align: middle;\n",
       "    }\n",
       "\n",
       "    .dataframe tbody tr th {\n",
       "        vertical-align: top;\n",
       "    }\n",
       "\n",
       "    .dataframe thead th {\n",
       "        text-align: right;\n",
       "    }\n",
       "</style>\n",
       "<table border=\"1\" class=\"dataframe\">\n",
       "  <thead>\n",
       "    <tr style=\"text-align: right;\">\n",
       "      <th></th>\n",
       "      <th>Harapan_Lama_Sekolah</th>\n",
       "      <th>Pengeluaran_Perkapita</th>\n",
       "      <th>Rerata_Lama_Sekolah</th>\n",
       "      <th>Usia_Harapan_Hidup</th>\n",
       "      <th>IPM</th>\n",
       "    </tr>\n",
       "  </thead>\n",
       "  <tbody>\n",
       "    <tr>\n",
       "      <th>0</th>\n",
       "      <td>14.36</td>\n",
       "      <td>9572</td>\n",
       "      <td>9.37</td>\n",
       "      <td>69.96</td>\n",
       "      <td>High</td>\n",
       "    </tr>\n",
       "    <tr>\n",
       "      <th>1</th>\n",
       "      <td>13.90</td>\n",
       "      <td>7148</td>\n",
       "      <td>9.48</td>\n",
       "      <td>65.28</td>\n",
       "      <td>Normal</td>\n",
       "    </tr>\n",
       "    <tr>\n",
       "      <th>2</th>\n",
       "      <td>14.32</td>\n",
       "      <td>8776</td>\n",
       "      <td>8.68</td>\n",
       "      <td>67.43</td>\n",
       "      <td>Normal</td>\n",
       "    </tr>\n",
       "    <tr>\n",
       "      <th>3</th>\n",
       "      <td>14.60</td>\n",
       "      <td>8180</td>\n",
       "      <td>8.88</td>\n",
       "      <td>64.40</td>\n",
       "      <td>Normal</td>\n",
       "    </tr>\n",
       "    <tr>\n",
       "      <th>4</th>\n",
       "      <td>14.01</td>\n",
       "      <td>8030</td>\n",
       "      <td>9.67</td>\n",
       "      <td>68.22</td>\n",
       "      <td>Normal</td>\n",
       "    </tr>\n",
       "  </tbody>\n",
       "</table>\n",
       "</div>"
      ],
      "text/plain": [
       "   Harapan_Lama_Sekolah  Pengeluaran_Perkapita  Rerata_Lama_Sekolah  \\\n",
       "0                 14.36                   9572                 9.37   \n",
       "1                 13.90                   7148                 9.48   \n",
       "2                 14.32                   8776                 8.68   \n",
       "3                 14.60                   8180                 8.88   \n",
       "4                 14.01                   8030                 9.67   \n",
       "\n",
       "   Usia_Harapan_Hidup     IPM  \n",
       "0               69.96    High  \n",
       "1               65.28  Normal  \n",
       "2               67.43  Normal  \n",
       "3               64.40  Normal  \n",
       "4               68.22  Normal  "
      ]
     },
     "execution_count": 2,
     "metadata": {},
     "output_type": "execute_result"
    }
   ],
   "source": [
    "data = pd.read_csv('IPM.csv')\n",
    "data.head()"
   ]
  },
  {
   "cell_type": "markdown",
   "metadata": {
    "id": "0d8438c1"
   },
   "source": [
    "### Step 3 (Data Exploration)"
   ]
  },
  {
   "cell_type": "markdown",
   "metadata": {
    "id": "d8f2e73f"
   },
   "source": [
    "Pada tahap ini akan dilakukan Exploratory Data Analysis (EDA), pencarian informasi-informasi penting dan membuat dataset siap dan layak untuk dilakukan pemodelan Machine Learning."
   ]
  },
  {
   "cell_type": "code",
   "execution_count": 3,
   "metadata": {
    "colab": {
     "base_uri": "https://localhost:8080/"
    },
    "id": "fc5e2530",
    "outputId": "bb786063-d684-4d25-c8a3-f21c650c8668"
   },
   "outputs": [
    {
     "data": {
      "text/plain": [
       "(2196, 5)"
      ]
     },
     "execution_count": 3,
     "metadata": {},
     "output_type": "execute_result"
    }
   ],
   "source": [
    "#Melihat ukuran data\n",
    "data.shape"
   ]
  },
  {
   "cell_type": "code",
   "execution_count": 4,
   "metadata": {
    "colab": {
     "base_uri": "https://localhost:8080/"
    },
    "id": "86411ce2",
    "outputId": "fb17ee41-4172-4c14-c4a4-458bce4591ba"
   },
   "outputs": [
    {
     "name": "stdout",
     "output_type": "stream",
     "text": [
      "<class 'pandas.core.frame.DataFrame'>\n",
      "RangeIndex: 2196 entries, 0 to 2195\n",
      "Data columns (total 5 columns):\n",
      " #   Column                 Non-Null Count  Dtype  \n",
      "---  ------                 --------------  -----  \n",
      " 0   Harapan_Lama_Sekolah   2196 non-null   float64\n",
      " 1   Pengeluaran_Perkapita  2196 non-null   int64  \n",
      " 2   Rerata_Lama_Sekolah    2196 non-null   float64\n",
      " 3   Usia_Harapan_Hidup     2196 non-null   float64\n",
      " 4   IPM                    2196 non-null   object \n",
      "dtypes: float64(3), int64(1), object(1)\n",
      "memory usage: 85.9+ KB\n"
     ]
    }
   ],
   "source": [
    "data.info()"
   ]
  },
  {
   "cell_type": "code",
   "execution_count": 5,
   "metadata": {
    "colab": {
     "base_uri": "https://localhost:8080/"
    },
    "id": "efcea6be",
    "outputId": "e7fe9159-abde-4524-9055-efe712130a76"
   },
   "outputs": [
    {
     "data": {
      "text/plain": [
       "Harapan_Lama_Sekolah     0\n",
       "Pengeluaran_Perkapita    0\n",
       "Rerata_Lama_Sekolah      0\n",
       "Usia_Harapan_Hidup       0\n",
       "IPM                      0\n",
       "dtype: int64"
      ]
     },
     "execution_count": 5,
     "metadata": {},
     "output_type": "execute_result"
    }
   ],
   "source": [
    "data.isnull().sum()"
   ]
  },
  {
   "cell_type": "code",
   "execution_count": 6,
   "metadata": {
    "colab": {
     "base_uri": "https://localhost:8080/",
     "height": 300
    },
    "id": "b1e027d2",
    "outputId": "1ac4a08b-fee9-4959-fba0-4a50a7eabcad"
   },
   "outputs": [
    {
     "data": {
      "text/html": [
       "<div>\n",
       "<style scoped>\n",
       "    .dataframe tbody tr th:only-of-type {\n",
       "        vertical-align: middle;\n",
       "    }\n",
       "\n",
       "    .dataframe tbody tr th {\n",
       "        vertical-align: top;\n",
       "    }\n",
       "\n",
       "    .dataframe thead th {\n",
       "        text-align: right;\n",
       "    }\n",
       "</style>\n",
       "<table border=\"1\" class=\"dataframe\">\n",
       "  <thead>\n",
       "    <tr style=\"text-align: right;\">\n",
       "      <th></th>\n",
       "      <th>Harapan_Lama_Sekolah</th>\n",
       "      <th>Pengeluaran_Perkapita</th>\n",
       "      <th>Rerata_Lama_Sekolah</th>\n",
       "      <th>Usia_Harapan_Hidup</th>\n",
       "    </tr>\n",
       "  </thead>\n",
       "  <tbody>\n",
       "    <tr>\n",
       "      <th>count</th>\n",
       "      <td>2196.000000</td>\n",
       "      <td>2196.000000</td>\n",
       "      <td>2196.000000</td>\n",
       "      <td>2196.000000</td>\n",
       "    </tr>\n",
       "    <tr>\n",
       "      <th>mean</th>\n",
       "      <td>12.931498</td>\n",
       "      <td>10323.144353</td>\n",
       "      <td>8.291585</td>\n",
       "      <td>69.467418</td>\n",
       "    </tr>\n",
       "    <tr>\n",
       "      <th>std</th>\n",
       "      <td>1.312967</td>\n",
       "      <td>2664.738311</td>\n",
       "      <td>1.611256</td>\n",
       "      <td>3.437536</td>\n",
       "    </tr>\n",
       "    <tr>\n",
       "      <th>min</th>\n",
       "      <td>2.950000</td>\n",
       "      <td>3975.000000</td>\n",
       "      <td>0.850000</td>\n",
       "      <td>54.820000</td>\n",
       "    </tr>\n",
       "    <tr>\n",
       "      <th>25%</th>\n",
       "      <td>12.350000</td>\n",
       "      <td>8599.750000</td>\n",
       "      <td>7.390000</td>\n",
       "      <td>67.210000</td>\n",
       "    </tr>\n",
       "    <tr>\n",
       "      <th>50%</th>\n",
       "      <td>12.860000</td>\n",
       "      <td>10192.500000</td>\n",
       "      <td>8.180000</td>\n",
       "      <td>69.785000</td>\n",
       "    </tr>\n",
       "    <tr>\n",
       "      <th>75%</th>\n",
       "      <td>13.570000</td>\n",
       "      <td>11670.500000</td>\n",
       "      <td>9.180000</td>\n",
       "      <td>71.712500</td>\n",
       "    </tr>\n",
       "    <tr>\n",
       "      <th>max</th>\n",
       "      <td>17.800000</td>\n",
       "      <td>23888.000000</td>\n",
       "      <td>12.830000</td>\n",
       "      <td>77.730000</td>\n",
       "    </tr>\n",
       "  </tbody>\n",
       "</table>\n",
       "</div>"
      ],
      "text/plain": [
       "       Harapan_Lama_Sekolah  Pengeluaran_Perkapita  Rerata_Lama_Sekolah  \\\n",
       "count           2196.000000            2196.000000          2196.000000   \n",
       "mean              12.931498           10323.144353             8.291585   \n",
       "std                1.312967            2664.738311             1.611256   \n",
       "min                2.950000            3975.000000             0.850000   \n",
       "25%               12.350000            8599.750000             7.390000   \n",
       "50%               12.860000           10192.500000             8.180000   \n",
       "75%               13.570000           11670.500000             9.180000   \n",
       "max               17.800000           23888.000000            12.830000   \n",
       "\n",
       "       Usia_Harapan_Hidup  \n",
       "count         2196.000000  \n",
       "mean            69.467418  \n",
       "std              3.437536  \n",
       "min             54.820000  \n",
       "25%             67.210000  \n",
       "50%             69.785000  \n",
       "75%             71.712500  \n",
       "max             77.730000  "
      ]
     },
     "execution_count": 6,
     "metadata": {},
     "output_type": "execute_result"
    }
   ],
   "source": [
    "data.describe()"
   ]
  },
  {
   "cell_type": "markdown",
   "metadata": {
    "id": "dd8099ba"
   },
   "source": [
    "Kolom IPM"
   ]
  },
  {
   "cell_type": "code",
   "execution_count": 7,
   "metadata": {
    "colab": {
     "base_uri": "https://localhost:8080/"
    },
    "id": "50fad5dc",
    "outputId": "e2165db6-d930-476b-aa39-46537da46860"
   },
   "outputs": [
    {
     "name": "stdout",
     "output_type": "stream",
     "text": [
      "Normal       1128\n",
      "High          829\n",
      "Very-High     146\n",
      "Low            93\n",
      "Name: IPM, dtype: int64\n"
     ]
    }
   ],
   "source": [
    "col_names = ['IPM']\n",
    "for col in col_names:\n",
    "    print(data[col].value_counts())"
   ]
  },
  {
   "cell_type": "code",
   "execution_count": 8,
   "metadata": {
    "colab": {
     "base_uri": "https://localhost:8080/",
     "height": 351
    },
    "id": "c180ae03",
    "outputId": "347c6f80-6201-456e-e0ac-8635da6ced59"
   },
   "outputs": [
    {
     "ename": "ValueError",
     "evalue": "could not convert string to float: 'High'",
     "output_type": "error",
     "traceback": [
      "\u001b[0;31m---------------------------------------------------------------------------\u001b[0m",
      "\u001b[0;31mValueError\u001b[0m                                Traceback (most recent call last)",
      "Cell \u001b[0;32mIn [8], line 1\u001b[0m\n\u001b[0;32m----> 1\u001b[0m sns\u001b[39m.\u001b[39;49mcountplot(data[\u001b[39m'\u001b[39;49m\u001b[39mIPM\u001b[39;49m\u001b[39m'\u001b[39;49m])\n",
      "File \u001b[0;32m~/.local/lib/python3.10/site-packages/seaborn/categorical.py:2942\u001b[0m, in \u001b[0;36mcountplot\u001b[0;34m(data, x, y, hue, order, hue_order, orient, color, palette, saturation, width, dodge, ax, **kwargs)\u001b[0m\n\u001b[1;32m   2939\u001b[0m \u001b[39melif\u001b[39;00m x \u001b[39mis\u001b[39;00m \u001b[39mnot\u001b[39;00m \u001b[39mNone\u001b[39;00m \u001b[39mand\u001b[39;00m y \u001b[39mis\u001b[39;00m \u001b[39mnot\u001b[39;00m \u001b[39mNone\u001b[39;00m:\n\u001b[1;32m   2940\u001b[0m     \u001b[39mraise\u001b[39;00m \u001b[39mValueError\u001b[39;00m(\u001b[39m\"\u001b[39m\u001b[39mCannot pass values for both `x` and `y`\u001b[39m\u001b[39m\"\u001b[39m)\n\u001b[0;32m-> 2942\u001b[0m plotter \u001b[39m=\u001b[39m _CountPlotter(\n\u001b[1;32m   2943\u001b[0m     x, y, hue, data, order, hue_order,\n\u001b[1;32m   2944\u001b[0m     estimator, errorbar, n_boot, units, seed,\n\u001b[1;32m   2945\u001b[0m     orient, color, palette, saturation,\n\u001b[1;32m   2946\u001b[0m     width, errcolor, errwidth, capsize, dodge\n\u001b[1;32m   2947\u001b[0m )\n\u001b[1;32m   2949\u001b[0m plotter\u001b[39m.\u001b[39mvalue_label \u001b[39m=\u001b[39m \u001b[39m\"\u001b[39m\u001b[39mcount\u001b[39m\u001b[39m\"\u001b[39m\n\u001b[1;32m   2951\u001b[0m \u001b[39mif\u001b[39;00m ax \u001b[39mis\u001b[39;00m \u001b[39mNone\u001b[39;00m:\n",
      "File \u001b[0;32m~/.local/lib/python3.10/site-packages/seaborn/categorical.py:1530\u001b[0m, in \u001b[0;36m_BarPlotter.__init__\u001b[0;34m(self, x, y, hue, data, order, hue_order, estimator, errorbar, n_boot, units, seed, orient, color, palette, saturation, width, errcolor, errwidth, capsize, dodge)\u001b[0m\n\u001b[1;32m   1525\u001b[0m \u001b[39mdef\u001b[39;00m \u001b[39m__init__\u001b[39m(\u001b[39mself\u001b[39m, x, y, hue, data, order, hue_order,\n\u001b[1;32m   1526\u001b[0m              estimator, errorbar, n_boot, units, seed,\n\u001b[1;32m   1527\u001b[0m              orient, color, palette, saturation, width,\n\u001b[1;32m   1528\u001b[0m              errcolor, errwidth, capsize, dodge):\n\u001b[1;32m   1529\u001b[0m     \u001b[39m\"\"\"Initialize the plotter.\"\"\"\u001b[39;00m\n\u001b[0;32m-> 1530\u001b[0m     \u001b[39mself\u001b[39;49m\u001b[39m.\u001b[39;49mestablish_variables(x, y, hue, data, orient,\n\u001b[1;32m   1531\u001b[0m                              order, hue_order, units)\n\u001b[1;32m   1532\u001b[0m     \u001b[39mself\u001b[39m\u001b[39m.\u001b[39mestablish_colors(color, palette, saturation)\n\u001b[1;32m   1533\u001b[0m     \u001b[39mself\u001b[39m\u001b[39m.\u001b[39mestimate_statistic(estimator, errorbar, n_boot, seed)\n",
      "File \u001b[0;32m~/.local/lib/python3.10/site-packages/seaborn/categorical.py:516\u001b[0m, in \u001b[0;36m_CategoricalPlotter.establish_variables\u001b[0;34m(self, x, y, hue, data, orient, order, hue_order, units)\u001b[0m\n\u001b[1;32m    513\u001b[0m     plot_data \u001b[39m=\u001b[39m data\n\u001b[1;32m    515\u001b[0m \u001b[39m# Convert to a list of arrays, the common representation\u001b[39;00m\n\u001b[0;32m--> 516\u001b[0m plot_data \u001b[39m=\u001b[39m [np\u001b[39m.\u001b[39masarray(d, \u001b[39mfloat\u001b[39m) \u001b[39mfor\u001b[39;00m d \u001b[39min\u001b[39;00m plot_data]\n\u001b[1;32m    518\u001b[0m \u001b[39m# The group names will just be numeric indices\u001b[39;00m\n\u001b[1;32m    519\u001b[0m group_names \u001b[39m=\u001b[39m \u001b[39mlist\u001b[39m(\u001b[39mrange\u001b[39m(\u001b[39mlen\u001b[39m(plot_data)))\n",
      "File \u001b[0;32m~/.local/lib/python3.10/site-packages/seaborn/categorical.py:516\u001b[0m, in \u001b[0;36m<listcomp>\u001b[0;34m(.0)\u001b[0m\n\u001b[1;32m    513\u001b[0m     plot_data \u001b[39m=\u001b[39m data\n\u001b[1;32m    515\u001b[0m \u001b[39m# Convert to a list of arrays, the common representation\u001b[39;00m\n\u001b[0;32m--> 516\u001b[0m plot_data \u001b[39m=\u001b[39m [np\u001b[39m.\u001b[39;49masarray(d, \u001b[39mfloat\u001b[39;49m) \u001b[39mfor\u001b[39;00m d \u001b[39min\u001b[39;00m plot_data]\n\u001b[1;32m    518\u001b[0m \u001b[39m# The group names will just be numeric indices\u001b[39;00m\n\u001b[1;32m    519\u001b[0m group_names \u001b[39m=\u001b[39m \u001b[39mlist\u001b[39m(\u001b[39mrange\u001b[39m(\u001b[39mlen\u001b[39m(plot_data)))\n",
      "File \u001b[0;32m/usr/local/lib/python3.10/dist-packages/pandas/core/series.py:872\u001b[0m, in \u001b[0;36mSeries.__array__\u001b[0;34m(self, dtype)\u001b[0m\n\u001b[1;32m    825\u001b[0m \u001b[39mdef\u001b[39;00m \u001b[39m__array__\u001b[39m(\u001b[39mself\u001b[39m, dtype: npt\u001b[39m.\u001b[39mDTypeLike \u001b[39m|\u001b[39m \u001b[39mNone\u001b[39;00m \u001b[39m=\u001b[39m \u001b[39mNone\u001b[39;00m) \u001b[39m-\u001b[39m\u001b[39m>\u001b[39m np\u001b[39m.\u001b[39mndarray:\n\u001b[1;32m    826\u001b[0m     \u001b[39m\"\"\"\u001b[39;00m\n\u001b[1;32m    827\u001b[0m \u001b[39m    Return the values as a NumPy array.\u001b[39;00m\n\u001b[1;32m    828\u001b[0m \n\u001b[0;32m   (...)\u001b[0m\n\u001b[1;32m    870\u001b[0m \u001b[39m          dtype='datetime64[ns]')\u001b[39;00m\n\u001b[1;32m    871\u001b[0m \u001b[39m    \"\"\"\u001b[39;00m\n\u001b[0;32m--> 872\u001b[0m     \u001b[39mreturn\u001b[39;00m np\u001b[39m.\u001b[39;49masarray(\u001b[39mself\u001b[39;49m\u001b[39m.\u001b[39;49m_values, dtype)\n",
      "\u001b[0;31mValueError\u001b[0m: could not convert string to float: 'High'"
     ]
    }
   ],
   "source": [
    "sns.countplot(data['IPM']) "
   ]
  },
  {
   "cell_type": "markdown",
   "metadata": {
    "id": "8b2d172c"
   },
   "source": [
    "Korelasi Data"
   ]
  },
  {
   "cell_type": "code",
   "execution_count": 9,
   "metadata": {
    "colab": {
     "base_uri": "https://localhost:8080/",
     "height": 395
    },
    "id": "96ae9277",
    "outputId": "fde1a49b-8c08-4b01-fa28-b9209e11d7e4"
   },
   "outputs": [
    {
     "data": {
      "text/plain": [
       "<AxesSubplot:>"
      ]
     },
     "execution_count": 9,
     "metadata": {},
     "output_type": "execute_result"
    },
    {
     "data": {
      "image/png": "[encoded data removed]",
      "text/plain": [
       "<Figure size 640x480 with 2 Axes>"
      ]
     },
     "metadata": {},
     "output_type": "display_data"
    }
   ],
   "source": [
    "sns.heatmap(data.corr(),annot=True)"
   ]
  },
  {
   "cell_type": "markdown",
   "metadata": {
    "id": "40cf86ad"
   },
   "source": [
    "Korelasi kuat terdapat pada hubungan beberapa variabel:\n",
    "\n",
    "- Rerata_Lama_Sekolah & Harapan_Lama_Sekolah (77%)\n",
    "\n",
    "- Pengeluaran_Perkapita & Rerata_Lama_Sekolah (67%)"
   ]
  },
  {
   "cell_type": "markdown",
   "metadata": {
    "id": "75a11ebe"
   },
   "source": [
    "Declire Dataset"
   ]
  },
  {
   "cell_type": "code",
   "execution_count": 10,
   "metadata": {
    "id": "51bd5110"
   },
   "outputs": [],
   "source": [
    "x = data.drop(['IPM'],axis=True)\n",
    "y = data['IPM']"
   ]
  },
  {
   "cell_type": "code",
   "execution_count": 11,
   "metadata": {
    "colab": {
     "base_uri": "https://localhost:8080/",
     "height": 206
    },
    "id": "be8f055d",
    "outputId": "30568a52-4203-43d7-f6eb-71e08d0bb12b"
   },
   "outputs": [
    {
     "data": {
      "text/html": [
       "<div>\n",
       "<style scoped>\n",
       "    .dataframe tbody tr th:only-of-type {\n",
       "        vertical-align: middle;\n",
       "    }\n",
       "\n",
       "    .dataframe tbody tr th {\n",
       "        vertical-align: top;\n",
       "    }\n",
       "\n",
       "    .dataframe thead th {\n",
       "        text-align: right;\n",
       "    }\n",
       "</style>\n",
       "<table border=\"1\" class=\"dataframe\">\n",
       "  <thead>\n",
       "    <tr style=\"text-align: right;\">\n",
       "      <th></th>\n",
       "      <th>Harapan_Lama_Sekolah</th>\n",
       "      <th>Pengeluaran_Perkapita</th>\n",
       "      <th>Rerata_Lama_Sekolah</th>\n",
       "      <th>Usia_Harapan_Hidup</th>\n",
       "    </tr>\n",
       "  </thead>\n",
       "  <tbody>\n",
       "    <tr>\n",
       "      <th>0</th>\n",
       "      <td>14.36</td>\n",
       "      <td>9572</td>\n",
       "      <td>9.37</td>\n",
       "      <td>69.96</td>\n",
       "    </tr>\n",
       "    <tr>\n",
       "      <th>1</th>\n",
       "      <td>13.90</td>\n",
       "      <td>7148</td>\n",
       "      <td>9.48</td>\n",
       "      <td>65.28</td>\n",
       "    </tr>\n",
       "    <tr>\n",
       "      <th>2</th>\n",
       "      <td>14.32</td>\n",
       "      <td>8776</td>\n",
       "      <td>8.68</td>\n",
       "      <td>67.43</td>\n",
       "    </tr>\n",
       "    <tr>\n",
       "      <th>3</th>\n",
       "      <td>14.60</td>\n",
       "      <td>8180</td>\n",
       "      <td>8.88</td>\n",
       "      <td>64.40</td>\n",
       "    </tr>\n",
       "    <tr>\n",
       "      <th>4</th>\n",
       "      <td>14.01</td>\n",
       "      <td>8030</td>\n",
       "      <td>9.67</td>\n",
       "      <td>68.22</td>\n",
       "    </tr>\n",
       "  </tbody>\n",
       "</table>\n",
       "</div>"
      ],
      "text/plain": [
       "   Harapan_Lama_Sekolah  Pengeluaran_Perkapita  Rerata_Lama_Sekolah  \\\n",
       "0                 14.36                   9572                 9.37   \n",
       "1                 13.90                   7148                 9.48   \n",
       "2                 14.32                   8776                 8.68   \n",
       "3                 14.60                   8180                 8.88   \n",
       "4                 14.01                   8030                 9.67   \n",
       "\n",
       "   Usia_Harapan_Hidup  \n",
       "0               69.96  \n",
       "1               65.28  \n",
       "2               67.43  \n",
       "3               64.40  \n",
       "4               68.22  "
      ]
     },
     "execution_count": 11,
     "metadata": {},
     "output_type": "execute_result"
    }
   ],
   "source": [
    "x.head()"
   ]
  },
  {
   "cell_type": "code",
   "execution_count": 12,
   "metadata": {
    "colab": {
     "base_uri": "https://localhost:8080/"
    },
    "id": "c64b907a",
    "outputId": "c182b330-0ce1-45f4-858c-0fb3e3625849"
   },
   "outputs": [
    {
     "data": {
      "text/plain": [
       "0      High\n",
       "1    Normal\n",
       "2    Normal\n",
       "3    Normal\n",
       "4    Normal\n",
       "Name: IPM, dtype: object"
      ]
     },
     "execution_count": 12,
     "metadata": {},
     "output_type": "execute_result"
    }
   ],
   "source": [
    "y.head()"
   ]
  },
  {
   "cell_type": "markdown",
   "metadata": {
    "id": "7f72bbb3"
   },
   "source": [
    "Split Dataset (Training & Testing)"
   ]
  },
  {
   "cell_type": "code",
   "execution_count": 13,
   "metadata": {
    "id": "3ac1a873"
   },
   "outputs": [],
   "source": [
    "from sklearn.model_selection import train_test_split\n",
    "x_train, x_test, y_train, y_test = train_test_split(x, y, test_size = 0.25, random_state = 42)"
   ]
  },
  {
   "cell_type": "code",
   "execution_count": 14,
   "metadata": {
    "colab": {
     "base_uri": "https://localhost:8080/"
    },
    "id": "a65c0b57",
    "outputId": "cbe0c0ab-8834-479e-8b65-75483e27a8f8"
   },
   "outputs": [
    {
     "data": {
      "text/plain": [
       "((1647, 4), (549, 4))"
      ]
     },
     "execution_count": 14,
     "metadata": {},
     "output_type": "execute_result"
    }
   ],
   "source": [
    "x_train.shape, x_test.shape"
   ]
  },
  {
   "cell_type": "markdown",
   "metadata": {
    "id": "93563f43"
   },
   "source": [
    "### Step 4 (Modelling)"
   ]
  },
  {
   "cell_type": "markdown",
   "metadata": {
    "id": "85d9d266"
   },
   "source": [
    "Decision Tree Algoirithm"
   ]
  },
  {
   "cell_type": "code",
   "execution_count": 15,
   "metadata": {
    "colab": {
     "base_uri": "https://localhost:8080/"
    },
    "id": "1ec047c3",
    "outputId": "01d4ca17-835c-4c56-f52d-2f5b177139ce"
   },
   "outputs": [
    {
     "name": "stdout",
     "output_type": "stream",
     "text": [
      "Hasil Training model untuk max_depth 1 adalah : 0.7413479052823315\n",
      "Hasil Testing model untuk max_depth 1 adalah : 0.7285974499089253\n",
      "\n",
      "Hasil Training model untuk max_depth 2 adalah : 0.8142076502732241\n",
      "Hasil Testing model untuk max_depth 2 adalah : 0.8014571948998178\n",
      "\n",
      "Hasil Training model untuk max_depth 3 adalah : 0.8482088646023073\n",
      "Hasil Testing model untuk max_depth 3 adalah : 0.825136612021858\n",
      "\n",
      "Hasil Training model untuk max_depth 4 adalah : 0.9040680024286581\n",
      "Hasil Testing model untuk max_depth 4 adalah : 0.8652094717668488\n",
      "\n",
      "Hasil Training model untuk max_depth 5 adalah : 0.9247115968427444\n",
      "Hasil Testing model untuk max_depth 5 adalah : 0.9016393442622951\n",
      "\n",
      "Hasil Training model untuk max_depth 6 adalah : 0.9562841530054644\n",
      "Hasil Testing model untuk max_depth 6 adalah : 0.907103825136612\n",
      "\n",
      "Hasil Training model untuk max_depth 7 adalah : 0.9684274438372799\n",
      "Hasil Testing model untuk max_depth 7 adalah : 0.9344262295081968\n",
      "\n",
      "Hasil Training model untuk max_depth 8 adalah : 0.9781420765027322\n",
      "Hasil Testing model untuk max_depth 8 adalah : 0.9344262295081968\n",
      "\n",
      "Hasil Training model untuk max_depth 9 adalah : 0.9908925318761385\n",
      "Hasil Testing model untuk max_depth 9 adalah : 0.9453551912568307\n",
      "\n"
     ]
    }
   ],
   "source": [
    "from sklearn.tree import DecisionTreeClassifier\n",
    "for max_d in range(1,10):\n",
    "  model = DecisionTreeClassifier(max_depth=max_d, random_state=42)\n",
    "  model.fit(x_train, y_train)\n",
    "  print('Hasil Training model untuk max_depth {} adalah :'.format(max_d), model.score(x_train,y_train))\n",
    "  print('Hasil Testing model untuk max_depth {} adalah :'.format(max_d), model.score(x_test,y_test))\n",
    "  print('')"
   ]
  },
  {
   "cell_type": "code",
   "execution_count": 16,
   "metadata": {
    "colab": {
     "base_uri": "https://localhost:8080/"
    },
    "id": "25939431",
    "outputId": "6c9f7500-0666-4783-fbb0-e8a030edc882"
   },
   "outputs": [
    {
     "data": {
      "text/html": [
       "<style>#sk-container-id-1 {color: black;background-color: white;}#sk-container-id-1 pre{padding: 0;}#sk-container-id-1 div.sk-toggleable {background-color: white;}#sk-container-id-1 label.sk-toggleable__label {cursor: pointer;display: block;width: 100%;margin-bottom: 0;padding: 0.3em;box-sizing: border-box;text-align: center;}#sk-container-id-1 label.sk-toggleable__label-arrow:before {content: \"▸\";float: left;margin-right: 0.25em;color: #696969;}#sk-container-id-1 label.sk-toggleable__label-arrow:hover:before {color: black;}#sk-container-id-1 div.sk-estimator:hover label.sk-toggleable__label-arrow:before {color: black;}#sk-container-id-1 div.sk-toggleable__content {max-height: 0;max-width: 0;overflow: hidden;text-align: left;background-color: #f0f8ff;}#sk-container-id-1 div.sk-toggleable__content pre {margin: 0.2em;color: black;border-radius: 0.25em;background-color: #f0f8ff;}#sk-container-id-1 input.sk-toggleable__control:checked~div.sk-toggleable__content {max-height: 200px;max-width: 100%;overflow: auto;}#sk-container-id-1 input.sk-toggleable__control:checked~label.sk-toggleable__label-arrow:before {content: \"▾\";}#sk-container-id-1 div.sk-estimator input.sk-toggleable__control:checked~label.sk-toggleable__label {background-color: #d4ebff;}#sk-container-id-1 div.sk-label input.sk-toggleable__control:checked~label.sk-toggleable__label {background-color: #d4ebff;}#sk-container-id-1 input.sk-hidden--visually {border: 0;clip: rect(1px 1px 1px 1px);clip: rect(1px, 1px, 1px, 1px);height: 1px;margin: -1px;overflow: hidden;padding: 0;position: absolute;width: 1px;}#sk-container-id-1 div.sk-estimator {font-family: monospace;background-color: #f0f8ff;border: 1px dotted black;border-radius: 0.25em;box-sizing: border-box;margin-bottom: 0.5em;}#sk-container-id-1 div.sk-estimator:hover {background-color: #d4ebff;}#sk-container-id-1 div.sk-parallel-item::after {content: \"\";width: 100%;border-bottom: 1px solid gray;flex-grow: 1;}#sk-container-id-1 div.sk-label:hover label.sk-toggleable__label {background-color: #d4ebff;}#sk-container-id-1 div.sk-serial::before {content: \"\";position: absolute;border-left: 1px solid gray;box-sizing: border-box;top: 0;bottom: 0;left: 50%;z-index: 0;}#sk-container-id-1 div.sk-serial {display: flex;flex-direction: column;align-items: center;background-color: white;padding-right: 0.2em;padding-left: 0.2em;position: relative;}#sk-container-id-1 div.sk-item {position: relative;z-index: 1;}#sk-container-id-1 div.sk-parallel {display: flex;align-items: stretch;justify-content: center;background-color: white;position: relative;}#sk-container-id-1 div.sk-item::before, #sk-container-id-1 div.sk-parallel-item::before {content: \"\";position: absolute;border-left: 1px solid gray;box-sizing: border-box;top: 0;bottom: 0;left: 50%;z-index: -1;}#sk-container-id-1 div.sk-parallel-item {display: flex;flex-direction: column;z-index: 1;position: relative;background-color: white;}#sk-container-id-1 div.sk-parallel-item:first-child::after {align-self: flex-end;width: 50%;}#sk-container-id-1 div.sk-parallel-item:last-child::after {align-self: flex-start;width: 50%;}#sk-container-id-1 div.sk-parallel-item:only-child::after {width: 0;}#sk-container-id-1 div.sk-dashed-wrapped {border: 1px dashed gray;margin: 0 0.4em 0.5em 0.4em;box-sizing: border-box;padding-bottom: 0.4em;background-color: white;}#sk-container-id-1 div.sk-label label {font-family: monospace;font-weight: bold;display: inline-block;line-height: 1.2em;}#sk-container-id-1 div.sk-label-container {text-align: center;}#sk-container-id-1 div.sk-container {/* jupyter's `normalize.less` sets `[hidden] { display: none; }` but bootstrap.min.css set `[hidden] { display: none !important; }` so we also need the `!important` here to be able to override the default hidden behavior on the sphinx rendered scikit-learn.org. See: https://github.com/scikit-learn/scikit-learn/issues/21755 */display: inline-block !important;position: relative;}#sk-container-id-1 div.sk-text-repr-fallback {display: none;}</style><div id=\"sk-container-id-1\" class=\"sk-top-container\"><div class=\"sk-text-repr-fallback\"><pre>DecisionTreeClassifier(max_depth=5, random_state=42)</pre><b>In a Jupyter environment, please rerun this cell to show the HTML representation or trust the notebook. <br />On GitHub, the HTML representation is unable to render, please try loading this page with nbviewer.org.</b></div><div class=\"sk-container\" hidden><div class=\"sk-item\"><div class=\"sk-estimator sk-toggleable\"><input class=\"sk-toggleable__control sk-hidden--visually\" id=\"sk-estimator-id-1\" type=\"checkbox\" checked><label for=\"sk-estimator-id-1\" class=\"sk-toggleable__label sk-toggleable__label-arrow\">DecisionTreeClassifier</label><div class=\"sk-toggleable__content\"><pre>DecisionTreeClassifier(max_depth=5, random_state=42)</pre></div></div></div></div></div>"
      ],
      "text/plain": [
       "DecisionTreeClassifier(max_depth=5, random_state=42)"
      ]
     },
     "execution_count": 16,
     "metadata": {},
     "output_type": "execute_result"
    }
   ],
   "source": [
    "from sklearn.tree import DecisionTreeClassifier\n",
    "\n",
    "modelGini = DecisionTreeClassifier(criterion='gini', max_depth=5, random_state=42)\n",
    "modelGini.fit(x_train, y_train)"
   ]
  },
  {
   "cell_type": "code",
   "execution_count": 17,
   "metadata": {
    "id": "677a073f"
   },
   "outputs": [],
   "source": [
    "y_pred_gini = modelGini.predict(x_test)"
   ]
  },
  {
   "cell_type": "code",
   "execution_count": 18,
   "metadata": {
    "colab": {
     "base_uri": "https://localhost:8080/"
    },
    "id": "33d5b068",
    "outputId": "695bc51b-e119-47e9-96ec-d6eca4df252f"
   },
   "outputs": [
    {
     "name": "stdout",
     "output_type": "stream",
     "text": [
      "[[166   0  34   8]\n",
      " [  0  22   2   0]\n",
      " [  7   0 269   0]\n",
      " [  3   0   0  38]]\n"
     ]
    },
    {
     "data": {
      "text/plain": [
       "0.9016393442622951"
      ]
     },
     "execution_count": 18,
     "metadata": {},
     "output_type": "execute_result"
    }
   ],
   "source": [
    "from sklearn.metrics import confusion_matrix, accuracy_score\n",
    "cm = confusion_matrix(y_test, y_pred_gini)\n",
    "print(cm)\n",
    "accuracy_score(y_test, y_pred_gini)"
   ]
  },
  {
   "cell_type": "code",
   "execution_count": 19,
   "metadata": {
    "colab": {
     "base_uri": "https://localhost:8080/"
    },
    "id": "deee71d3",
    "outputId": "d004498c-ff77-4ded-fa50-d854d9bb0d1a"
   },
   "outputs": [
    {
     "name": "stdout",
     "output_type": "stream",
     "text": [
      "Training set score: 0.9247\n",
      "Test set score: 0.9016\n"
     ]
    }
   ],
   "source": [
    "#Hasil Akurasi Training dan Testing\n",
    "print('Training set score: {:.4f}'.format(modelGini.score(x_train, y_train)))\n",
    "print('Test set score: {:.4f}'.format(modelGini.score(x_test, y_test)))"
   ]
  },
  {
   "cell_type": "code",
   "execution_count": 20,
   "metadata": {
    "colab": {
     "base_uri": "https://localhost:8080/"
    },
    "id": "29de3ac9",
    "outputId": "b06f4798-4434-4e96-f814-a1f1ac83557d"
   },
   "outputs": [
    {
     "name": "stdout",
     "output_type": "stream",
     "text": [
      "              precision    recall  f1-score   support\n",
      "\n",
      "        High       0.94      0.80      0.86       208\n",
      "         Low       1.00      0.92      0.96        24\n",
      "      Normal       0.88      0.97      0.93       276\n",
      "   Very-High       0.83      0.93      0.87        41\n",
      "\n",
      "    accuracy                           0.90       549\n",
      "   macro avg       0.91      0.90      0.91       549\n",
      "weighted avg       0.91      0.90      0.90       549\n",
      "\n"
     ]
    }
   ],
   "source": [
    "from sklearn.metrics import classification_report\n",
    "\n",
    "print(classification_report(y_test, y_pred_gini))"
   ]
  },
  {
   "cell_type": "markdown",
   "metadata": {
    "id": "36211e1f"
   },
   "source": [
    "### Step 5 (Evaluation)"
   ]
  },
  {
   "cell_type": "markdown",
   "metadata": {
    "id": "e206929d"
   },
   "source": [
    "Evaluasi model dilihat dari nilai Akurasi Training dan Testing, Confusion Matrix dan Classification Report"
   ]
  },
  {
   "cell_type": "markdown",
   "metadata": {
    "id": "cd4d43ab"
   },
   "source": [
    "### Decision Tree\n",
    "\n",
    "Akurasi Training : 92.47%\n",
    "\n",
    "Akurasi Testing : 90.16%"
   ]
  },
  {
   "cell_type": "markdown",
   "metadata": {
    "id": "57db3e7c"
   },
   "source": [
    "### Step 6 (Deployment)"
   ]
  },
  {
   "cell_type": "code",
   "execution_count": 21,
   "metadata": {
    "colab": {
     "base_uri": "https://localhost:8080/",
     "height": 81
    },
    "id": "8dbfc5c1",
    "outputId": "83f02f41-e35b-46c8-fef9-322ec1207ea3"
   },
   "outputs": [
    {
     "data": {
      "text/html": [
       "<div>\n",
       "<style scoped>\n",
       "    .dataframe tbody tr th:only-of-type {\n",
       "        vertical-align: middle;\n",
       "    }\n",
       "\n",
       "    .dataframe tbody tr th {\n",
       "        vertical-align: top;\n",
       "    }\n",
       "\n",
       "    .dataframe thead th {\n",
       "        text-align: right;\n",
       "    }\n",
       "</style>\n",
       "<table border=\"1\" class=\"dataframe\">\n",
       "  <thead>\n",
       "    <tr style=\"text-align: right;\">\n",
       "      <th></th>\n",
       "      <th>Harapan_Lama_Sekolah</th>\n",
       "      <th>Pengeluaran_Perkapita</th>\n",
       "      <th>Rerata_Lama_Sekolah</th>\n",
       "      <th>Usia_Harapan_Hidup</th>\n",
       "    </tr>\n",
       "  </thead>\n",
       "  <tbody>\n",
       "    <tr>\n",
       "      <th>0</th>\n",
       "      <td>14.56</td>\n",
       "      <td>8765</td>\n",
       "      <td>8.34</td>\n",
       "      <td>64.34</td>\n",
       "    </tr>\n",
       "  </tbody>\n",
       "</table>\n",
       "</div>"
      ],
      "text/plain": [
       "   Harapan_Lama_Sekolah  Pengeluaran_Perkapita  Rerata_Lama_Sekolah  \\\n",
       "0                 14.56                   8765                 8.34   \n",
       "\n",
       "   Usia_Harapan_Hidup  \n",
       "0               64.34  "
      ]
     },
     "execution_count": 21,
     "metadata": {},
     "output_type": "execute_result"
    }
   ],
   "source": [
    "df_test = pd.DataFrame(data={\n",
    "    \"Harapan_Lama_Sekolah\" : [14.56],\n",
    "    \"Pengeluaran_Perkapita\"  : [8765],\n",
    "    \"Rerata_Lama_Sekolah\" : [8.34],\n",
    "    \"Usia_Harapan_Hidup\"  : [64.34]\n",
    "})\n",
    "\n",
    "df_test[0:1]"
   ]
  },
  {
   "cell_type": "code",
   "execution_count": 22,
   "metadata": {
    "colab": {
     "base_uri": "https://localhost:8080/",
     "height": 36
    },
    "id": "J_PxNmlDBgMK",
    "outputId": "4768de89-40d9-49dd-9af9-30fe5bd14f69"
   },
   "outputs": [
    {
     "data": {
      "text/plain": [
       "'Normal'"
      ]
     },
     "execution_count": 22,
     "metadata": {},
     "output_type": "execute_result"
    }
   ],
   "source": [
    "predict = modelGini.predict(df_test[0:1])\n",
    "predict[0]"
   ]
  },
  {
   "cell_type": "markdown",
   "metadata": {
    "id": "174059f7"
   },
   "source": [
    "### Kesimpulan\n",
    "\n",
    "H0 ditolak / H1 diterima yang artinya Jenis IPM dipengaruhi oleh harapan lama sekolah, pengeluaran perkapita, rerata lama sekolah dan usia harapan hidup.\n",
    "\n",
    "Dari 4 faktor tersebut, model akan mengklasifikasikan data ke 4 jenis IPM. \n",
    "\n",
    "Dengan model Decision Tree ini juga, model dapat melakukan prediksi terhadap dataset baru dengan nilai akurasi sebesar 90.16%. \n",
    "\n",
    "Model Decision Tree juga tidak dikatakan overfitting dikarenakan perbedaan akurasi training dan testing tidak berbeda jauh."
   ]
  },
  {
   "cell_type": "markdown",
   "metadata": {
    "id": "87c4d85a"
   },
   "source": [
    "### Deployment"
   ]
  },
  {
   "cell_type": "code",
   "execution_count": 24,
   "metadata": {
    "colab": {
     "base_uri": "https://localhost:8080/"
    },
    "id": "2fff96fb",
    "outputId": "56639b1c-b44e-48bf-a057-e59ada21c1e3"
   },
   "outputs": [
    {
     "name": "stdout",
     "output_type": "stream",
     "text": [
      "model created\n"
     ]
    }
   ],
   "source": [
    "import pickle\n",
    "\n",
    "pickle.dump(modelGini, open('model_gini.pkl', 'wb'))\n",
    "print('model created')\n"
   ]
  }
 ],
 "metadata": {
  "colab": {
   "collapsed_sections": [
    "174059f7"
   ],
   "provenance": []
  },
  "kernelspec": {
   "display_name": "Python 3.10.6 64-bit",
   "language": "python",
   "name": "python3"
  },
  "language_info": {
   "codemirror_mode": {
    "name": "ipython",
    "version": 3
   },
   "file_extension": ".py",
   "mimetype": "text/x-python",
   "name": "python",
   "nbconvert_exporter": "python",
   "pygments_lexer": "ipython3",
   "version": "3.10.6"
  },
  "vscode": {
   "interpreter": {
    "hash": "e7370f93d1d0cde622a1f8e1c04877d8463912d04d973331ad4851f04de6915a"
   }
  }
 },
 "nbformat": 4,
 "nbformat_minor": 5
}
